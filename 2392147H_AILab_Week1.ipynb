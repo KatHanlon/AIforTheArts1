{
 "cells": [
  {
   "cell_type": "markdown",
   "id": "3f49eb7e",
   "metadata": {},
   "source": [
    "# Week 1:  Getting started with Anaconda, Jupyter Notebook and Python\n",
    "\n",
    "##Github URL: https://github.com/KatHanlon/AIforTheArts1\n",
    "\n",
    "## Exercises to familiarise myself with Jupyter Notebook and it's relationship to Python\n",
    "\n",
    "### a)\tWhy you chose to join this course – for, motivation, vision, aspiration?\n",
    "- In my internship I am researching the ethics of AI Dating Simulators and I thought this course would further my understanding of the technology behind the games.\n",
    "### b)\tPrior experience, if any, you have with AI and/or Python\n",
    "- I have absolutely zero experience in Python and only a baseline understanding of AI from my internship.\n",
    "### c)\tWhat you expect to learn from the course \n",
    "- Understand how AI works better.\n",
    "- Have larger discussions about the legalities and ethics of AI.\n",
    "- How to utilise AI for non-CompSci purposes."
   ]
  },
  {
   "cell_type": "code",
   "execution_count": 1,
   "id": "44b19464",
   "metadata": {},
   "outputs": [
    {
     "name": "stdout",
     "output_type": "stream",
     "text": [
      "Slay! \n",
      "Slay! Slay! \n",
      "Slay! Slay! Slay! \n",
      "S\n"
     ]
    }
   ],
   "source": [
    "'''\n",
    "Try changing the value of message to print out your own greeting.\n",
    "What happens when you print message + message? What is your output?\n",
    "What happens when you print message*3? What is your output?\n",
    "What happens when you print message [0]? What is your output? Why? What if you change 0 to a different number?\n",
    "'''\n",
    "\n",
    "msg = \"Slay! \"\n",
    "print(msg)\n",
    "\n",
    "print(msg+msg)\n",
    "print(msg*3)\n",
    "print(msg[0])"
   ]
  },
  {
   "cell_type": "code",
   "execution_count": 2,
   "id": "8e9f81c8",
   "metadata": {},
   "outputs": [
    {
     "data": {
      "image/jpeg": "[encoded data removed]",
      "text/html": [
       "\n",
       "        <iframe\n",
       "            width=\"400\"\n",
       "            height=\"300\"\n",
       "            src=\"https://www.youtube.com/embed/rVUYt6l6rz8\"\n",
       "            frameborder=\"0\"\n",
       "            allowfullscreen\n",
       "            \n",
       "        ></iframe>\n",
       "        "
      ],
      "text/plain": [
       "<IPython.lib.display.YouTubeVideo at 0x1768ceccbb0>"
      ]
     },
     "execution_count": 2,
     "metadata": {},
     "output_type": "execute_result"
    }
   ],
   "source": [
    "from IPython.display import *\n",
    "YouTubeVideo(\"rVUYt6l6rz8\")"
   ]
  },
  {
   "cell_type": "code",
   "execution_count": null,
   "id": "fb7d7410",
   "metadata": {},
   "outputs": [
    {
     "name": "stdout",
     "output_type": "stream",
     "text": [
      "Shall we hunt down an old website?\n"
     ]
    }
   ],
   "source": [
    "import webbrowser\n",
    "import requests \n",
    "print(\"Shall we hunt down an old website?\")\n",
    "site = input(\"Type a website URL: \")\n",
    "era = input(\"Type year, month, and date, e.g., 20150613: \")\n",
    "url = \"http://archive.org/wayback/available?url=%s&timestamp=%s\" % (site, era)\n",
    "response = requests.get(url)\n",
    "data = response.json()\n",
    "try:\n",
    "    old_site = data[\"archived_snapshots\"] [\"closest\"] [\"url\"]\n",
    "    print(\"Found this copy: \", old_site)\n",
    "    print(\"It should appear in your browser.\")\n",
    "    webbrowser.open(old_site)\n",
    "except: \n",
    "    print (\"Sorry, could not find the site\")"
   ]
  },
  {
   "cell_type": "markdown",
   "id": "37aaf1dc",
   "metadata": {},
   "source": [
    "# Week 2: Exploring Data in Multiple Ways"
   ]
  },
  {
   "cell_type": "code",
   "execution_count": null,
   "id": "a3b5ce5a",
   "metadata": {},
   "outputs": [],
   "source": [
    "from IPython.display import Image, Audio\n",
    "\n",
    "Image (\"picture1.jpg\") "
   ]
  },
  {
   "cell_type": "code",
   "execution_count": null,
   "id": "ddf29698",
   "metadata": {},
   "outputs": [],
   "source": [
    "Audio (\"audio1.mid\")"
   ]
  },
  {
   "cell_type": "code",
   "execution_count": null,
   "id": "e6ae5037",
   "metadata": {},
   "outputs": [],
   "source": [
    "Audio (\"audio2.ogg\")\n",
    "\n",
    "#This file is licensed under the Creative Commons Attribution-Share Alike 3.0 Unported license.\n",
    "#You are free: \n",
    "#  •to share – to copy, distribute and transmit the work\n",
    "#  •to remix – to adapt the work\n",
    "#Under the following conditions: \n",
    "#  •attribution – You must give appropriate credit, provide a link to the license, and indicate if changes were made. You may do so in any reasonable manner, but not in any way that suggests the licensor endorses you or your use.\n",
    "#  •share alike – If you remix, transform, or build upon the material, you must distribute your contributions under the same or compatible license as the original.\n",
    "#The original ogg file was found at the url: \n",
    "#https://en.wikipedia.org/wiki/File:GoldbergVariations_MehmetOkonsar-1of3_Var1to10.ogg"
   ]
  },
  {
   "cell_type": "markdown",
   "id": "1ee3ad16",
   "metadata": {},
   "source": [
    "## Using the matplotlib library to look at picture as numerical data"
   ]
  },
  {
   "cell_type": "code",
   "execution_count": 1,
   "id": "7db58486",
   "metadata": {},
   "outputs": [
    {
     "name": "stderr",
     "output_type": "stream",
     "text": [
      "Clipping input data to the valid range for imshow with RGB data ([0..1] for floats or [0..255] for integers).\n"
     ]
    },
    {
     "name": "stdout",
     "output_type": "stream",
     "text": [
      "Numpy array of the image is:  [[[207 204 199]\n",
      "  [208 205 200]\n",
      "  [209 206 201]\n",
      "  ...\n",
      "  [206 207 212]\n",
      "  [205 206 211]\n",
      "  [205 206 211]]\n",
      "\n",
      " [[206 203 198]\n",
      "  [207 204 199]\n",
      "  [208 205 200]\n",
      "  ...\n",
      "  [206 207 212]\n",
      "  [205 206 211]\n",
      "  [205 206 211]]\n",
      "\n",
      " [[205 202 197]\n",
      "  [206 203 198]\n",
      "  [207 204 199]\n",
      "  ...\n",
      "  [206 207 212]\n",
      "  [205 206 211]\n",
      "  [205 206 211]]\n",
      "\n",
      " ...\n",
      "\n",
      " [[106  90  91]\n",
      "  [111  97  97]\n",
      "  [118 104 104]\n",
      "  ...\n",
      "  [193 193 203]\n",
      "  [190 190 200]\n",
      "  [190 190 200]]\n",
      "\n",
      " [[111  97  97]\n",
      "  [115 101 101]\n",
      "  [121 107 107]\n",
      "  ...\n",
      "  [193 193 203]\n",
      "  [191 191 201]\n",
      "  [191 191 201]]\n",
      "\n",
      " [[118 104 104]\n",
      "  [121 107 107]\n",
      "  [125 110 113]\n",
      "  ...\n",
      "  [190 190 200]\n",
      "  [190 190 200]\n",
      "  [190 190 200]]]\n"
     ]
    },
    {
     "data": {
      "text/plain": [
       "<matplotlib.image.AxesImage at 0x25627e78250>"
      ]
     },
     "execution_count": 1,
     "metadata": {},
     "output_type": "execute_result"
    },
    {
     "data": {
      "image/png": "[encoded data removed]",
      "text/plain": [
       "<Figure size 640x480 with 1 Axes>"
      ]
     },
     "metadata": {},
     "output_type": "display_data"
    }
   ],
   "source": [
    "from matplotlib import pyplot\n",
    "\n",
    "test_pic = pyplot.imread(\"picture1.jpg\")\n",
    "print(\"Numpy array of the image is: \", test_pic)\n",
    "pyplot.imshow(test_pic)\n",
    "\n",
    "test_pic_filter = 2*test_pic/3\n",
    "pyplot.imshow(test_pic_filter)"
   ]
  },
  {
   "cell_type": "markdown",
   "id": "f6cacb02",
   "metadata": {},
   "source": [
    "## Exploring scikit-learn (a.k.a sklearn)"
   ]
  },
  {
   "cell_type": "code",
   "execution_count": 2,
   "id": "f1391225",
   "metadata": {},
   "outputs": [
    {
     "ename": "ModuleNotFoundError",
     "evalue": "No module named 'sklearn'",
     "output_type": "error",
     "traceback": [
      "\u001b[1;31m---------------------------------------------------------------------------\u001b[0m",
      "\u001b[1;31mModuleNotFoundError\u001b[0m                       Traceback (most recent call last)",
      "\u001b[1;32mC:\\Users\\local_2392147H\\Temp\\ipykernel_33828\\2190145279.py\u001b[0m in \u001b[0;36m<cell line: 1>\u001b[1;34m()\u001b[0m\n\u001b[1;32m----> 1\u001b[1;33m \u001b[1;32mfrom\u001b[0m \u001b[0msklearn\u001b[0m \u001b[1;32mimport\u001b[0m \u001b[0mdatasets\u001b[0m\u001b[1;33m\u001b[0m\u001b[1;33m\u001b[0m\u001b[0m\n\u001b[0m\u001b[0;32m      2\u001b[0m \u001b[1;33m\u001b[0m\u001b[0m\n\u001b[0;32m      3\u001b[0m \u001b[0mdir\u001b[0m\u001b[1;33m(\u001b[0m\u001b[0mdatasets\u001b[0m\u001b[1;33m)\u001b[0m\u001b[1;33m\u001b[0m\u001b[1;33m\u001b[0m\u001b[0m\n",
      "\u001b[1;31mModuleNotFoundError\u001b[0m: No module named 'sklearn'"
     ]
    }
   ],
   "source": [
    "from sklearn import datasets\n",
    "\n",
    "dir(datasets)"
   ]
  },
  {
   "cell_type": "code",
   "execution_count": null,
   "id": "79590bd6",
   "metadata": {},
   "outputs": [],
   "source": [
    "wine_data = datasets.load_wine()\n",
    "iris_data = datasets.load_iris()\n",
    "\n",
    "print(wine_data.DESCR)\n",
    "print(iris_data.DESCR)"
   ]
  },
  {
   "cell_type": "code",
   "execution_count": null,
   "id": "b7e2fdc5",
   "metadata": {},
   "outputs": [],
   "source": [
    "wine_data.feature_names\n",
    "iris_data.feature_names"
   ]
  },
  {
   "cell_type": "code",
   "execution_count": 3,
   "id": "73da1ce8",
   "metadata": {},
   "outputs": [
    {
     "ename": "NameError",
     "evalue": "name 'wine_data' is not defined",
     "output_type": "error",
     "traceback": [
      "\u001b[1;31m---------------------------------------------------------------------------\u001b[0m",
      "\u001b[1;31mNameError\u001b[0m                                 Traceback (most recent call last)",
      "\u001b[1;32mC:\\Users\\local_2392147H\\Temp\\ipykernel_33828\\1233637069.py\u001b[0m in \u001b[0;36m<cell line: 1>\u001b[1;34m()\u001b[0m\n\u001b[1;32m----> 1\u001b[1;33m \u001b[0mwine_data\u001b[0m\u001b[1;33m.\u001b[0m\u001b[0mtarget_names\u001b[0m\u001b[1;33m\u001b[0m\u001b[1;33m\u001b[0m\u001b[0m\n\u001b[0m\u001b[0;32m      2\u001b[0m \u001b[0miris_data\u001b[0m\u001b[1;33m.\u001b[0m\u001b[0mtarget_names\u001b[0m\u001b[1;33m\u001b[0m\u001b[1;33m\u001b[0m\u001b[0m\n",
      "\u001b[1;31mNameError\u001b[0m: name 'wine_data' is not defined"
     ]
    }
   ],
   "source": [
    "wine_data.target_names\n",
    "iris_data.target_names"
   ]
  },
  {
   "cell_type": "markdown",
   "id": "61524811",
   "metadata": {},
   "source": [
    "## Basic Data Exploration with Python library Pandas "
   ]
  },
  {
   "cell_type": "code",
   "execution_count": 4,
   "id": "4d94cc54",
   "metadata": {},
   "outputs": [
    {
     "ename": "ModuleNotFoundError",
     "evalue": "No module named 'sklearn'",
     "output_type": "error",
     "traceback": [
      "\u001b[1;31m---------------------------------------------------------------------------\u001b[0m",
      "\u001b[1;31mModuleNotFoundError\u001b[0m                       Traceback (most recent call last)",
      "\u001b[1;32mC:\\Users\\local_2392147H\\Temp\\ipykernel_33828\\1888347145.py\u001b[0m in \u001b[0;36m<cell line: 2>\u001b[1;34m()\u001b[0m\n\u001b[0;32m      1\u001b[0m \u001b[1;32mimport\u001b[0m \u001b[0mpandas\u001b[0m\u001b[1;33m\u001b[0m\u001b[1;33m\u001b[0m\u001b[0m\n\u001b[1;32m----> 2\u001b[1;33m \u001b[1;32mfrom\u001b[0m \u001b[0msklearn\u001b[0m \u001b[1;32mimport\u001b[0m \u001b[0mdatasets\u001b[0m\u001b[1;33m\u001b[0m\u001b[1;33m\u001b[0m\u001b[0m\n\u001b[0m\u001b[0;32m      3\u001b[0m \u001b[1;33m\u001b[0m\u001b[0m\n\u001b[0;32m      4\u001b[0m \u001b[0miris_data\u001b[0m \u001b[1;33m=\u001b[0m \u001b[0mdatasets\u001b[0m\u001b[1;33m.\u001b[0m\u001b[0mload_iris\u001b[0m\u001b[1;33m(\u001b[0m\u001b[1;33m)\u001b[0m\u001b[1;33m\u001b[0m\u001b[1;33m\u001b[0m\u001b[0m\n\u001b[0;32m      5\u001b[0m \u001b[1;33m\u001b[0m\u001b[0m\n",
      "\u001b[1;31mModuleNotFoundError\u001b[0m: No module named 'sklearn'"
     ]
    }
   ],
   "source": [
    "import pandas\n",
    "from sklearn import datasets\n",
    "\n",
    "iris_data = datasets.load_iris()\n",
    "\n",
    "iris_dataframe = pandas.DataFrame(data = iris_data['data'], columns = iris_data['feature_names'])\n",
    "\n",
    "iris_dataframe.head()\n",
    "iris_dataframe.describe()"
   ]
  },
  {
   "cell_type": "markdown",
   "id": "bf196a00",
   "metadata": {},
   "source": [
    "# Week 5"
   ]
  },
  {
   "cell_type": "markdown",
   "id": "5d3ffce2",
   "metadata": {},
   "source": [
    "![Diagram of AI and ML](images/6ad175f3-6836-4ef3-8913-0408185e8475.png)"
   ]
  },
  {
   "cell_type": "markdown",
   "id": "a427ffbc",
   "metadata": {},
   "source": [
    "### In an example from Lecture 4 is image recognition. The purpose of the model is to determine whether or not the images are of objects that belong on a beach. The algorithim is a neural network that matches elements of the images provided with images already known by the neural network. the model... LOOK AT LECTURE RECORDING"
   ]
  },
  {
   "cell_type": "markdown",
   "id": "3bcd3941",
   "metadata": {},
   "source": [
    "Critically engaging with AI Ethics\n",
    "\n",
    "There are 6 types of biases described on the page:\n",
    "\n",
    "Historical bias\n",
    "Representation bias\n",
    "Measurement bias\n",
    "Aggregation bias\n",
    "Evaluation bias\n",
    "Deployment bias\n",
    "\n",
    "Before taking this course, I was already familiar with historical bias, representation bias and measurement bias.\n",
    "\n",
    "The type of bias that was new to me was aggregation bias. I had not heard of this term before, and I found it interesting to learn about how combining data from different groups can lead to biases in the model.\n",
    "\n",
    "Other types of biases that I can think of include:\n",
    "\n",
    "Confirmation bias: seeking out information that conrims preexisting beliefs and ignores information that contradicts it. This can lead to biased models if the data used to train the model is selected based on confirmation bias.\n",
    "Anchoring bias: relying heavily on the first piece of information recieved when making decisions. This can lead to biased models if the initial data used to train the model anchors the model's predictions.\n",
    "Availability bias: overestimating the importance of information that is readily available. This can lead to biased models if the data used to train the model is not representative of the entire population.\n",
    "\n",
    "It's important to note that these biases can be subtle and may not always be immediately apparent. Therefore, it's crucial to be aware of these biases and take steps to mitigate them in the machine learning development process."
   ]
  },
  {
   "cell_type": "code",
   "execution_count": null,
   "id": "1b0e8233",
   "metadata": {},
   "outputs": [],
   "source": []
  },
  {
   "cell_type": "code",
   "execution_count": null,
   "id": "949cc301",
   "metadata": {},
   "outputs": [],
   "source": []
  },
  {
   "cell_type": "code",
   "execution_count": null,
   "id": "76372163",
   "metadata": {},
   "outputs": [],
   "source": []
  },
  {
   "cell_type": "code",
   "execution_count": null,
   "id": "381de529",
   "metadata": {},
   "outputs": [],
   "source": []
  },
  {
   "cell_type": "code",
   "execution_count": null,
   "id": "1130fbd2",
   "metadata": {},
   "outputs": [],
   "source": []
  }
 ],
 "metadata": {
  "kernelspec": {
   "display_name": "Python 3 (ipykernel)",
   "language": "python",
   "name": "python3"
  },
  "language_info": {
   "codemirror_mode": {
    "name": "ipython",
    "version": 3
   },
   "file_extension": ".py",
   "mimetype": "text/x-python",
   "name": "python",
   "nbconvert_exporter": "python",
   "pygments_lexer": "ipython3",
   "version": "3.9.16"
  }
 },
 "nbformat": 4,
 "nbformat_minor": 5
}
