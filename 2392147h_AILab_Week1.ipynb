{
 "cells": [
  {
   "cell_type": "markdown",
   "id": "97f94c4c",
   "metadata": {},
   "source": [
    "# **Week 1: Getting started with Anaconda, Jupyter Notebook and Python**\n",
    "<div class=\"alert alert-block alert-danger\">\n",
    "\n",
    "_Exercises to familiarise myself with Jupyter Notebook and its relationship to Python._"
   ]
  },
  {
   "cell_type": "markdown",
   "id": "f98ea13a",
   "metadata": {},
   "source": [
    "- Why you chose to join this course- for motivation, visions, aspirartion?\n",
    "    - In my internship I am researching the ethics of AI Dating Simulators and I thought this course would further my understanding of the technology behind the games. "
   ]
  },
  {
   "cell_type": "markdown",
   "id": "cecca0f7",
   "metadata": {},
   "source": [
    "- Prior experience, if any, you have with AI and/or Python\n",
    "    - I have absolutely zero experience in Python and only a baseline understanding of AI from my internship."
   ]
  },
  {
   "cell_type": "markdown",
   "id": "3c3d99da",
   "metadata": {},
   "source": [
    "- What you expect to learn from the course\n",
    "    - Understand how AI works better\n",
    "    - Have larger discussions about the legalities and ethics of AI\n",
    "    - How to utilise AI for non-CompSci purposes"
   ]
  },
  {
   "cell_type": "code",
   "execution_count": 1,
   "id": "66f40096",
   "metadata": {},
   "outputs": [
    {
     "name": "stdout",
     "output_type": "stream",
     "text": [
      "Hello, World!\n"
     ]
    }
   ],
   "source": [
    "print (\"Hello, World!\")"
   ]
  },
  {
   "cell_type": "code",
   "execution_count": 11,
   "id": "3fa84d01",
   "metadata": {},
   "outputs": [
    {
     "name": "stdout",
     "output_type": "stream",
     "text": [
      "S\n",
      "l\n",
      "a\n",
      "y\n"
     ]
    }
   ],
   "source": [
    "message = \"Slay\"\n",
    "print (message [0])\n",
    "print (message [1])\n",
    "print (message [2])\n",
    "print (message [3])"
   ]
  },
  {
   "cell_type": "code",
   "execution_count": 1,
   "id": "2cfacd8f",
   "metadata": {},
   "outputs": [],
   "source": [
    "from IPython.display import *"
   ]
  },
  {
   "cell_type": "code",
   "execution_count": 2,
   "id": "72bfff06",
   "metadata": {},
   "outputs": [
    {
     "data": {
      "image/jpeg": "[encoded data removed]",
      "text/html": [
       "\n",
       "        <iframe\n",
       "            width=\"400\"\n",
       "            height=\"300\"\n",
       "            src=\"https://www.youtube.com/embed/rVUYt6l6rz8\"\n",
       "            frameborder=\"0\"\n",
       "            allowfullscreen\n",
       "            \n",
       "        ></iframe>\n",
       "        "
      ],
      "text/plain": [
       "<IPython.lib.display.YouTubeVideo at 0x1cb1431b6a0>"
      ]
     },
     "execution_count": 2,
     "metadata": {},
     "output_type": "execute_result"
    }
   ],
   "source": [
    "YouTubeVideo(\"rVUYt6l6rz8\")"
   ]
  },
  {
   "cell_type": "code",
   "execution_count": null,
   "id": "774236e2",
   "metadata": {},
   "outputs": [],
   "source": []
  }
 ],
 "metadata": {
  "kernelspec": {
   "display_name": "Python 3 (ipykernel)",
   "language": "python",
   "name": "python3"
  },
  "language_info": {
   "codemirror_mode": {
    "name": "ipython",
    "version": 3
   },
   "file_extension": ".py",
   "mimetype": "text/x-python",
   "name": "python",
   "nbconvert_exporter": "python",
   "pygments_lexer": "ipython3",
   "version": "3.10.9"
  }
 },
 "nbformat": 4,
 "nbformat_minor": 5
}
